{
 "cells": [
  {
   "cell_type": "markdown",
   "id": "006322a0",
   "metadata": {},
   "source": [
    "## Data Science Libraries\n",
    "- Pandas (Python)\n",
    "- NumPy (Python)\n",
    "- Scikit-learn (Python)\n",
    "- TensorFlow (Python)\n",
    "- ggplot2 (R)\n"
   ]
  },
  {
   "cell_type": "markdown",
   "id": "50cf7ff3",
   "metadata": {},
   "source": [
    "## Introduction\n",
    "Welcome to the Data Science Essentials notebook. This guide will cover the basics of data science languages, libraries, and tools, along with some introductory examples of arithmetic expressions and their implementation in data science.\n"
   ]
  },
  {
   "cell_type": "markdown",
   "id": "3f1a2562",
   "metadata": {},
   "source": [
    "## Data Science Languages\n",
    "- Python\n",
    "- R\n",
    "- SQL\n",
    "- Julia\n",
    "- Scala\n"
   ]
  },
  {
   "cell_type": "markdown",
   "id": "2b70b3d7",
   "metadata": {},
   "source": [
    "## Data Science Tools\n",
    "\n",
    "| Tool Type    | Examples             |\n",
    "|--------------|----------------------|\n",
    "| Languages    | Python, R, SQL       |\n",
    "| Libraries    | Pandas, NumPy        |\n",
    "| IDEs         | Jupyter, RStudio     |\n",
    "| Visualization| Matplotlib, ggplot2  |\n",
    "| ML Frameworks| TensorFlow, PyTorch  |\n"
   ]
  },
  {
   "cell_type": "markdown",
   "id": "b790f820",
   "metadata": {},
   "source": [
    "## Arithmetic Expression Examples\n",
    "This section introduces basic arithmetic expressions such as addition, subtraction, multiplication, and division, which are fundamental in data processing and analysis.\n"
   ]
  },
  {
   "cell_type": "code",
   "execution_count": 1,
   "id": "fc3f78f7",
   "metadata": {},
   "outputs": [
    {
     "name": "stdout",
     "output_type": "stream",
     "text": [
      "Multiplication Result: 50\n",
      "Addition Result: 15\n"
     ]
    }
   ],
   "source": [
    "# Exercise 8: Multiply and Add Numbers\n",
    "number1 = 5\n",
    "number2 = 10\n",
    "multiplication_result = number1 * number2\n",
    "addition_result = number1 + number2\n",
    "print(\"Multiplication Result:\", multiplication_result)\n",
    "print(\"Addition Result:\", addition_result)\n"
   ]
  },
  {
   "cell_type": "code",
   "execution_count": 2,
   "id": "f1de2451",
   "metadata": {},
   "outputs": [
    {
     "name": "stdout",
     "output_type": "stream",
     "text": [
      "120 minutes is equal to 2.0 hours.\n"
     ]
    }
   ],
   "source": [
    "# Exercise 9: Convert Minutes to Hours\n",
    "minutes = 120\n",
    "hours = minutes / 60\n",
    "print(minutes, \"minutes is equal to\", hours, \"hours.\")\n"
   ]
  },
  {
   "cell_type": "markdown",
   "id": "f8226c6a",
   "metadata": {},
   "source": [
    "## Objectives\n",
    "- Understand basic data science concepts\n",
    "- Familiarize with common data science languages and libraries\n",
    "- Learn to implement simple arithmetic operations in Python\n",
    "- Practice notebook organization and documentation\n"
   ]
  },
  {
   "cell_type": "markdown",
   "id": "e6fb2f44",
   "metadata": {},
   "source": [
    "## Author\n",
    "- Name: [Mostafa Elsharkawy]\n"
   ]
  },
  {
   "cell_type": "markdown",
   "id": "4fd67cf3",
   "metadata": {},
   "source": [
    "## Sharing Notebook on GitHub\n",
    "- Commit the notebook to a local Git repository.\n",
    "- Push the committed notebook to a GitHub repository.\n",
    "- Ensure the repository is public for sharing.\n"
   ]
  },
  {
   "cell_type": "markdown",
   "id": "29518edf",
   "metadata": {},
   "source": [
    "## Screenshot of the First Page\n",
    "- Take a screenshot of the first page of the notebook.\n",
    "- Ensure it includes the title and part of the introduction.\n",
    "- Save and share the screenshot as needed.\n"
   ]
  }
 ],
 "metadata": {
  "kernelspec": {
   "display_name": "Python 3 (ipykernel)",
   "language": "python",
   "name": "python3"
  },
  "language_info": {
   "codemirror_mode": {
    "name": "ipython",
    "version": 3
   },
   "file_extension": ".py",
   "mimetype": "text/x-python",
   "name": "python",
   "nbconvert_exporter": "python",
   "pygments_lexer": "ipython3",
   "version": "3.9.16"
  }
 },
 "nbformat": 4,
 "nbformat_minor": 5
}
